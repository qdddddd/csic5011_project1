{
 "cells": [
  {
   "cell_type": "code",
   "execution_count": 1,
   "id": "sublime-vampire",
   "metadata": {},
   "outputs": [],
   "source": [
    "import pandas as pd\n",
    "import numpy as np\n",
    "import matplotlib.pyplot as plt\n",
    "from sklearn.decomposition import PCA\n",
    "from tqdm import tqdm"
   ]
  },
  {
   "cell_type": "code",
   "execution_count": 61,
   "id": "danish-navigation",
   "metadata": {},
   "outputs": [
    {
     "data": {
      "text/html": [
       "<div>\n",
       "<style scoped>\n",
       "    .dataframe tbody tr th:only-of-type {\n",
       "        vertical-align: middle;\n",
       "    }\n",
       "\n",
       "    .dataframe tbody tr th {\n",
       "        vertical-align: top;\n",
       "    }\n",
       "\n",
       "    .dataframe thead th {\n",
       "        text-align: right;\n",
       "    }\n",
       "</style>\n",
       "<table border=\"1\" class=\"dataframe\">\n",
       "  <thead>\n",
       "    <tr style=\"text-align: right;\">\n",
       "      <th></th>\n",
       "      <th>date</th>\n",
       "      <th>open</th>\n",
       "      <th>high</th>\n",
       "      <th>low</th>\n",
       "      <th>close</th>\n",
       "      <th>volume</th>\n",
       "      <th>Name</th>\n",
       "    </tr>\n",
       "  </thead>\n",
       "  <tbody>\n",
       "    <tr>\n",
       "      <th>0</th>\n",
       "      <td>2013-02-08</td>\n",
       "      <td>15.07</td>\n",
       "      <td>15.12</td>\n",
       "      <td>14.63</td>\n",
       "      <td>14.75</td>\n",
       "      <td>8407500</td>\n",
       "      <td>AAL</td>\n",
       "    </tr>\n",
       "    <tr>\n",
       "      <th>1</th>\n",
       "      <td>2013-02-11</td>\n",
       "      <td>14.89</td>\n",
       "      <td>15.01</td>\n",
       "      <td>14.26</td>\n",
       "      <td>14.46</td>\n",
       "      <td>8882000</td>\n",
       "      <td>AAL</td>\n",
       "    </tr>\n",
       "    <tr>\n",
       "      <th>2</th>\n",
       "      <td>2013-02-12</td>\n",
       "      <td>14.45</td>\n",
       "      <td>14.51</td>\n",
       "      <td>14.10</td>\n",
       "      <td>14.27</td>\n",
       "      <td>8126000</td>\n",
       "      <td>AAL</td>\n",
       "    </tr>\n",
       "    <tr>\n",
       "      <th>3</th>\n",
       "      <td>2013-02-13</td>\n",
       "      <td>14.30</td>\n",
       "      <td>14.94</td>\n",
       "      <td>14.25</td>\n",
       "      <td>14.66</td>\n",
       "      <td>10259500</td>\n",
       "      <td>AAL</td>\n",
       "    </tr>\n",
       "    <tr>\n",
       "      <th>4</th>\n",
       "      <td>2013-02-14</td>\n",
       "      <td>14.94</td>\n",
       "      <td>14.96</td>\n",
       "      <td>13.16</td>\n",
       "      <td>13.99</td>\n",
       "      <td>31879900</td>\n",
       "      <td>AAL</td>\n",
       "    </tr>\n",
       "  </tbody>\n",
       "</table>\n",
       "</div>"
      ],
      "text/plain": [
       "         date   open   high    low  close    volume Name\n",
       "0  2013-02-08  15.07  15.12  14.63  14.75   8407500  AAL\n",
       "1  2013-02-11  14.89  15.01  14.26  14.46   8882000  AAL\n",
       "2  2013-02-12  14.45  14.51  14.10  14.27   8126000  AAL\n",
       "3  2013-02-13  14.30  14.94  14.25  14.66  10259500  AAL\n",
       "4  2013-02-14  14.94  14.96  13.16  13.99  31879900  AAL"
      ]
     },
     "execution_count": 61,
     "metadata": {},
     "output_type": "execute_result"
    }
   ],
   "source": [
    "df = pd.read_csv('all_stocks_5yr.csv')\n",
    "df.head()"
   ]
  },
  {
   "cell_type": "markdown",
   "id": "textile-catholic",
   "metadata": {},
   "source": [
    "We only use the close price for the following analysis.\n",
    "We here expand the stock name as columns names and date as indexes."
   ]
  },
  {
   "cell_type": "code",
   "execution_count": 3,
   "id": "disabled-quality",
   "metadata": {
    "tags": []
   },
   "outputs": [
    {
     "name": "stderr",
     "output_type": "stream",
     "text": [
      "100%|██████████| 505/505 [00:14<00:00, 36.00it/s]\n"
     ]
    }
   ],
   "source": [
    "close_price = pd.DataFrame(df.date.unique()).rename(columns={0: 'date'}).set_index('date')\n",
    "for code in tqdm(df.Name.unique()):\n",
    "    temp = df[df.Name == code][['date', 'close']].set_index('date')\n",
    "    temp = temp.rename(columns={'close': code})\n",
    "    close_price = pd.concat([close_price, temp], axis=1)"
   ]
  },
  {
   "cell_type": "code",
   "execution_count": 4,
   "id": "clear-genealogy",
   "metadata": {},
   "outputs": [
    {
     "data": {
      "text/html": [
       "<div>\n",
       "<style scoped>\n",
       "    .dataframe tbody tr th:only-of-type {\n",
       "        vertical-align: middle;\n",
       "    }\n",
       "\n",
       "    .dataframe tbody tr th {\n",
       "        vertical-align: top;\n",
       "    }\n",
       "\n",
       "    .dataframe thead th {\n",
       "        text-align: right;\n",
       "    }\n",
       "</style>\n",
       "<table border=\"1\" class=\"dataframe\">\n",
       "  <thead>\n",
       "    <tr style=\"text-align: right;\">\n",
       "      <th></th>\n",
       "      <th>AAL</th>\n",
       "      <th>AAPL</th>\n",
       "      <th>AAP</th>\n",
       "      <th>ABBV</th>\n",
       "      <th>ABC</th>\n",
       "      <th>ABT</th>\n",
       "      <th>ACN</th>\n",
       "      <th>ADBE</th>\n",
       "      <th>ADI</th>\n",
       "      <th>ADM</th>\n",
       "      <th>...</th>\n",
       "      <th>XLNX</th>\n",
       "      <th>XL</th>\n",
       "      <th>XOM</th>\n",
       "      <th>XRAY</th>\n",
       "      <th>XRX</th>\n",
       "      <th>XYL</th>\n",
       "      <th>YUM</th>\n",
       "      <th>ZBH</th>\n",
       "      <th>ZION</th>\n",
       "      <th>ZTS</th>\n",
       "    </tr>\n",
       "    <tr>\n",
       "      <th>date</th>\n",
       "      <th></th>\n",
       "      <th></th>\n",
       "      <th></th>\n",
       "      <th></th>\n",
       "      <th></th>\n",
       "      <th></th>\n",
       "      <th></th>\n",
       "      <th></th>\n",
       "      <th></th>\n",
       "      <th></th>\n",
       "      <th></th>\n",
       "      <th></th>\n",
       "      <th></th>\n",
       "      <th></th>\n",
       "      <th></th>\n",
       "      <th></th>\n",
       "      <th></th>\n",
       "      <th></th>\n",
       "      <th></th>\n",
       "      <th></th>\n",
       "      <th></th>\n",
       "    </tr>\n",
       "  </thead>\n",
       "  <tbody>\n",
       "    <tr>\n",
       "      <th>2013-02-08</th>\n",
       "      <td>14.75</td>\n",
       "      <td>67.8542</td>\n",
       "      <td>78.90</td>\n",
       "      <td>36.25</td>\n",
       "      <td>46.89</td>\n",
       "      <td>34.41</td>\n",
       "      <td>73.31</td>\n",
       "      <td>39.12</td>\n",
       "      <td>45.70</td>\n",
       "      <td>30.22</td>\n",
       "      <td>...</td>\n",
       "      <td>37.51</td>\n",
       "      <td>28.24</td>\n",
       "      <td>88.61</td>\n",
       "      <td>42.87</td>\n",
       "      <td>31.84</td>\n",
       "      <td>27.09</td>\n",
       "      <td>65.30</td>\n",
       "      <td>75.85</td>\n",
       "      <td>24.14</td>\n",
       "      <td>33.05</td>\n",
       "    </tr>\n",
       "    <tr>\n",
       "      <th>2013-02-11</th>\n",
       "      <td>14.46</td>\n",
       "      <td>68.5614</td>\n",
       "      <td>78.39</td>\n",
       "      <td>35.85</td>\n",
       "      <td>46.76</td>\n",
       "      <td>34.26</td>\n",
       "      <td>73.07</td>\n",
       "      <td>38.64</td>\n",
       "      <td>46.08</td>\n",
       "      <td>30.28</td>\n",
       "      <td>...</td>\n",
       "      <td>37.46</td>\n",
       "      <td>28.31</td>\n",
       "      <td>88.28</td>\n",
       "      <td>42.84</td>\n",
       "      <td>31.96</td>\n",
       "      <td>27.46</td>\n",
       "      <td>64.55</td>\n",
       "      <td>75.65</td>\n",
       "      <td>24.21</td>\n",
       "      <td>33.26</td>\n",
       "    </tr>\n",
       "    <tr>\n",
       "      <th>2013-02-12</th>\n",
       "      <td>14.27</td>\n",
       "      <td>66.8428</td>\n",
       "      <td>78.60</td>\n",
       "      <td>35.42</td>\n",
       "      <td>46.96</td>\n",
       "      <td>34.30</td>\n",
       "      <td>73.37</td>\n",
       "      <td>38.89</td>\n",
       "      <td>46.27</td>\n",
       "      <td>30.81</td>\n",
       "      <td>...</td>\n",
       "      <td>37.58</td>\n",
       "      <td>28.41</td>\n",
       "      <td>88.46</td>\n",
       "      <td>42.87</td>\n",
       "      <td>31.84</td>\n",
       "      <td>27.95</td>\n",
       "      <td>64.75</td>\n",
       "      <td>75.44</td>\n",
       "      <td>24.49</td>\n",
       "      <td>33.74</td>\n",
       "    </tr>\n",
       "    <tr>\n",
       "      <th>2013-02-13</th>\n",
       "      <td>14.66</td>\n",
       "      <td>66.7156</td>\n",
       "      <td>78.97</td>\n",
       "      <td>35.27</td>\n",
       "      <td>46.64</td>\n",
       "      <td>34.46</td>\n",
       "      <td>73.56</td>\n",
       "      <td>38.81</td>\n",
       "      <td>46.26</td>\n",
       "      <td>31.16</td>\n",
       "      <td>...</td>\n",
       "      <td>37.80</td>\n",
       "      <td>28.42</td>\n",
       "      <td>88.67</td>\n",
       "      <td>43.08</td>\n",
       "      <td>32.00</td>\n",
       "      <td>28.26</td>\n",
       "      <td>64.41</td>\n",
       "      <td>76.00</td>\n",
       "      <td>24.74</td>\n",
       "      <td>33.55</td>\n",
       "    </tr>\n",
       "    <tr>\n",
       "      <th>2013-02-14</th>\n",
       "      <td>13.99</td>\n",
       "      <td>66.6556</td>\n",
       "      <td>78.84</td>\n",
       "      <td>36.57</td>\n",
       "      <td>46.77</td>\n",
       "      <td>34.70</td>\n",
       "      <td>73.13</td>\n",
       "      <td>38.61</td>\n",
       "      <td>46.54</td>\n",
       "      <td>31.40</td>\n",
       "      <td>...</td>\n",
       "      <td>38.44</td>\n",
       "      <td>28.22</td>\n",
       "      <td>88.52</td>\n",
       "      <td>42.91</td>\n",
       "      <td>32.12</td>\n",
       "      <td>28.47</td>\n",
       "      <td>63.89</td>\n",
       "      <td>76.34</td>\n",
       "      <td>24.63</td>\n",
       "      <td>33.27</td>\n",
       "    </tr>\n",
       "  </tbody>\n",
       "</table>\n",
       "<p>5 rows × 505 columns</p>\n",
       "</div>"
      ],
      "text/plain": [
       "              AAL     AAPL    AAP   ABBV    ABC    ABT    ACN   ADBE    ADI  \\\n",
       "date                                                                          \n",
       "2013-02-08  14.75  67.8542  78.90  36.25  46.89  34.41  73.31  39.12  45.70   \n",
       "2013-02-11  14.46  68.5614  78.39  35.85  46.76  34.26  73.07  38.64  46.08   \n",
       "2013-02-12  14.27  66.8428  78.60  35.42  46.96  34.30  73.37  38.89  46.27   \n",
       "2013-02-13  14.66  66.7156  78.97  35.27  46.64  34.46  73.56  38.81  46.26   \n",
       "2013-02-14  13.99  66.6556  78.84  36.57  46.77  34.70  73.13  38.61  46.54   \n",
       "\n",
       "              ADM  ...   XLNX     XL    XOM   XRAY    XRX    XYL    YUM  \\\n",
       "date               ...                                                    \n",
       "2013-02-08  30.22  ...  37.51  28.24  88.61  42.87  31.84  27.09  65.30   \n",
       "2013-02-11  30.28  ...  37.46  28.31  88.28  42.84  31.96  27.46  64.55   \n",
       "2013-02-12  30.81  ...  37.58  28.41  88.46  42.87  31.84  27.95  64.75   \n",
       "2013-02-13  31.16  ...  37.80  28.42  88.67  43.08  32.00  28.26  64.41   \n",
       "2013-02-14  31.40  ...  38.44  28.22  88.52  42.91  32.12  28.47  63.89   \n",
       "\n",
       "              ZBH   ZION    ZTS  \n",
       "date                             \n",
       "2013-02-08  75.85  24.14  33.05  \n",
       "2013-02-11  75.65  24.21  33.26  \n",
       "2013-02-12  75.44  24.49  33.74  \n",
       "2013-02-13  76.00  24.74  33.55  \n",
       "2013-02-14  76.34  24.63  33.27  \n",
       "\n",
       "[5 rows x 505 columns]"
      ]
     },
     "execution_count": 4,
     "metadata": {},
     "output_type": "execute_result"
    }
   ],
   "source": [
    "close_price.head()"
   ]
  },
  {
   "cell_type": "code",
   "execution_count": 66,
   "id": "amber-happening",
   "metadata": {},
   "outputs": [
    {
     "name": "stderr",
     "output_type": "stream",
     "text": [
      "100%|██████████| 470/470 [00:11<00:00, 39.73it/s]\n"
     ]
    }
   ],
   "source": [
    "volumes = pd.DataFrame(df.date.unique()).rename(columns={0: 'date'}).set_index('date')\n",
    "for code in tqdm(df.Name.unique()):\n",
    "    temp = df[df.Name == code][['date', 'volume']].set_index('date')\n",
    "    temp = temp.rename(columns={'volume': code})\n",
    "    volumes = pd.concat([volumes, temp], axis=1)"
   ]
  },
  {
   "cell_type": "code",
   "execution_count": 68,
   "id": "personalized-batman",
   "metadata": {},
   "outputs": [
    {
     "data": {
      "text/html": [
       "<div>\n",
       "<style scoped>\n",
       "    .dataframe tbody tr th:only-of-type {\n",
       "        vertical-align: middle;\n",
       "    }\n",
       "\n",
       "    .dataframe tbody tr th {\n",
       "        vertical-align: top;\n",
       "    }\n",
       "\n",
       "    .dataframe thead th {\n",
       "        text-align: right;\n",
       "    }\n",
       "</style>\n",
       "<table border=\"1\" class=\"dataframe\">\n",
       "  <thead>\n",
       "    <tr style=\"text-align: right;\">\n",
       "      <th></th>\n",
       "      <th>AAL</th>\n",
       "      <th>AAPL</th>\n",
       "      <th>AAP</th>\n",
       "      <th>ABBV</th>\n",
       "      <th>ABC</th>\n",
       "      <th>ABT</th>\n",
       "      <th>ACN</th>\n",
       "      <th>ADBE</th>\n",
       "      <th>ADI</th>\n",
       "      <th>ADM</th>\n",
       "      <th>...</th>\n",
       "      <th>XLNX</th>\n",
       "      <th>XL</th>\n",
       "      <th>XOM</th>\n",
       "      <th>XRAY</th>\n",
       "      <th>XRX</th>\n",
       "      <th>XYL</th>\n",
       "      <th>YUM</th>\n",
       "      <th>ZBH</th>\n",
       "      <th>ZION</th>\n",
       "      <th>ZTS</th>\n",
       "    </tr>\n",
       "    <tr>\n",
       "      <th>date</th>\n",
       "      <th></th>\n",
       "      <th></th>\n",
       "      <th></th>\n",
       "      <th></th>\n",
       "      <th></th>\n",
       "      <th></th>\n",
       "      <th></th>\n",
       "      <th></th>\n",
       "      <th></th>\n",
       "      <th></th>\n",
       "      <th></th>\n",
       "      <th></th>\n",
       "      <th></th>\n",
       "      <th></th>\n",
       "      <th></th>\n",
       "      <th></th>\n",
       "      <th></th>\n",
       "      <th></th>\n",
       "      <th></th>\n",
       "      <th></th>\n",
       "      <th></th>\n",
       "    </tr>\n",
       "  </thead>\n",
       "  <tbody>\n",
       "    <tr>\n",
       "      <th>2013-02-08</th>\n",
       "      <td>8407500</td>\n",
       "      <td>158168416</td>\n",
       "      <td>1298137</td>\n",
       "      <td>13858795</td>\n",
       "      <td>1232802</td>\n",
       "      <td>10237828</td>\n",
       "      <td>2000477</td>\n",
       "      <td>5104545</td>\n",
       "      <td>2962576</td>\n",
       "      <td>4789484</td>\n",
       "      <td>...</td>\n",
       "      <td>3721016</td>\n",
       "      <td>5390855</td>\n",
       "      <td>11412204</td>\n",
       "      <td>624374</td>\n",
       "      <td>1702218</td>\n",
       "      <td>1206284</td>\n",
       "      <td>7190051</td>\n",
       "      <td>911179</td>\n",
       "      <td>2104483</td>\n",
       "      <td>2599232</td>\n",
       "    </tr>\n",
       "    <tr>\n",
       "      <th>2013-02-11</th>\n",
       "      <td>8882000</td>\n",
       "      <td>129029425</td>\n",
       "      <td>758016</td>\n",
       "      <td>6031957</td>\n",
       "      <td>1115888</td>\n",
       "      <td>7928236</td>\n",
       "      <td>1880055</td>\n",
       "      <td>2333712</td>\n",
       "      <td>2382919</td>\n",
       "      <td>4418487</td>\n",
       "      <td>...</td>\n",
       "      <td>2004285</td>\n",
       "      <td>2629693</td>\n",
       "      <td>8764645</td>\n",
       "      <td>422288</td>\n",
       "      <td>1475369</td>\n",
       "      <td>875010</td>\n",
       "      <td>5352531</td>\n",
       "      <td>665462</td>\n",
       "      <td>1839686</td>\n",
       "      <td>1486115</td>\n",
       "    </tr>\n",
       "    <tr>\n",
       "      <th>2013-02-12</th>\n",
       "      <td>8126000</td>\n",
       "      <td>151829363</td>\n",
       "      <td>876859</td>\n",
       "      <td>7473991</td>\n",
       "      <td>1318773</td>\n",
       "      <td>7070536</td>\n",
       "      <td>1710274</td>\n",
       "      <td>3279424</td>\n",
       "      <td>2313512</td>\n",
       "      <td>5535196</td>\n",
       "      <td>...</td>\n",
       "      <td>1859525</td>\n",
       "      <td>2321225</td>\n",
       "      <td>9751642</td>\n",
       "      <td>357918</td>\n",
       "      <td>1888523</td>\n",
       "      <td>904935</td>\n",
       "      <td>4934311</td>\n",
       "      <td>1048252</td>\n",
       "      <td>2603143</td>\n",
       "      <td>1637279</td>\n",
       "    </tr>\n",
       "    <tr>\n",
       "      <th>2013-02-13</th>\n",
       "      <td>10259500</td>\n",
       "      <td>118721995</td>\n",
       "      <td>1038574</td>\n",
       "      <td>4860053</td>\n",
       "      <td>2645247</td>\n",
       "      <td>6688100</td>\n",
       "      <td>1884631</td>\n",
       "      <td>2490936</td>\n",
       "      <td>2376089</td>\n",
       "      <td>6749912</td>\n",
       "      <td>...</td>\n",
       "      <td>2908631</td>\n",
       "      <td>1537556</td>\n",
       "      <td>8940627</td>\n",
       "      <td>851215</td>\n",
       "      <td>2863447</td>\n",
       "      <td>622205</td>\n",
       "      <td>3999959</td>\n",
       "      <td>931746</td>\n",
       "      <td>2911880</td>\n",
       "      <td>1269625</td>\n",
       "    </tr>\n",
       "    <tr>\n",
       "      <th>2013-02-14</th>\n",
       "      <td>31879900</td>\n",
       "      <td>88809154</td>\n",
       "      <td>1005376</td>\n",
       "      <td>7570052</td>\n",
       "      <td>1941879</td>\n",
       "      <td>8561425</td>\n",
       "      <td>2096346</td>\n",
       "      <td>4929645</td>\n",
       "      <td>1991339</td>\n",
       "      <td>7250119</td>\n",
       "      <td>...</td>\n",
       "      <td>4376224</td>\n",
       "      <td>3246492</td>\n",
       "      <td>13238873</td>\n",
       "      <td>759836</td>\n",
       "      <td>1594884</td>\n",
       "      <td>927050</td>\n",
       "      <td>3949356</td>\n",
       "      <td>860104</td>\n",
       "      <td>2789414</td>\n",
       "      <td>2954324</td>\n",
       "    </tr>\n",
       "  </tbody>\n",
       "</table>\n",
       "<p>5 rows × 470 columns</p>\n",
       "</div>"
      ],
      "text/plain": [
       "                 AAL       AAPL      AAP      ABBV      ABC       ABT  \\\n",
       "date                                                                    \n",
       "2013-02-08   8407500  158168416  1298137  13858795  1232802  10237828   \n",
       "2013-02-11   8882000  129029425   758016   6031957  1115888   7928236   \n",
       "2013-02-12   8126000  151829363   876859   7473991  1318773   7070536   \n",
       "2013-02-13  10259500  118721995  1038574   4860053  2645247   6688100   \n",
       "2013-02-14  31879900   88809154  1005376   7570052  1941879   8561425   \n",
       "\n",
       "                ACN     ADBE      ADI      ADM  ...     XLNX       XL  \\\n",
       "date                                            ...                     \n",
       "2013-02-08  2000477  5104545  2962576  4789484  ...  3721016  5390855   \n",
       "2013-02-11  1880055  2333712  2382919  4418487  ...  2004285  2629693   \n",
       "2013-02-12  1710274  3279424  2313512  5535196  ...  1859525  2321225   \n",
       "2013-02-13  1884631  2490936  2376089  6749912  ...  2908631  1537556   \n",
       "2013-02-14  2096346  4929645  1991339  7250119  ...  4376224  3246492   \n",
       "\n",
       "                 XOM    XRAY      XRX      XYL      YUM      ZBH     ZION  \\\n",
       "date                                                                        \n",
       "2013-02-08  11412204  624374  1702218  1206284  7190051   911179  2104483   \n",
       "2013-02-11   8764645  422288  1475369   875010  5352531   665462  1839686   \n",
       "2013-02-12   9751642  357918  1888523   904935  4934311  1048252  2603143   \n",
       "2013-02-13   8940627  851215  2863447   622205  3999959   931746  2911880   \n",
       "2013-02-14  13238873  759836  1594884   927050  3949356   860104  2789414   \n",
       "\n",
       "                ZTS  \n",
       "date                 \n",
       "2013-02-08  2599232  \n",
       "2013-02-11  1486115  \n",
       "2013-02-12  1637279  \n",
       "2013-02-13  1269625  \n",
       "2013-02-14  2954324  \n",
       "\n",
       "[5 rows x 470 columns]"
      ]
     },
     "execution_count": 68,
     "metadata": {},
     "output_type": "execute_result"
    }
   ],
   "source": [
    "volumes.head()"
   ]
  },
  {
   "cell_type": "markdown",
   "id": "about-memphis",
   "metadata": {},
   "source": [
    "We drop any stock that contains NaN values. These are usually the stocks that were not\n",
    "a member of the S&P500 for the entire period that we consider."
   ]
  },
  {
   "cell_type": "code",
   "execution_count": 5,
   "id": "ongoing-treasure",
   "metadata": {},
   "outputs": [
    {
     "data": {
      "text/plain": [
       "(1259, 470)"
      ]
     },
     "execution_count": 5,
     "metadata": {},
     "output_type": "execute_result"
    }
   ],
   "source": [
    "close_price = close_price[close_price.columns[~close_price.isna().any(axis=0)]]\n",
    "close_price.shape"
   ]
  },
  {
   "cell_type": "markdown",
   "id": "weighted-means",
   "metadata": {},
   "source": [
    "Take the log of the close prices and compute the difference of the prices on the adjacent days."
   ]
  },
  {
   "cell_type": "code",
   "execution_count": 90,
   "id": "reliable-marketplace",
   "metadata": {},
   "outputs": [],
   "source": [
    "Y = np.log(close_price)\n",
    "DeltaY = Y.diff()[1:]\n",
    "DeltaY_demeaned = DeltaY - DeltaY.mean()"
   ]
  },
  {
   "cell_type": "markdown",
   "id": "simple-grain",
   "metadata": {},
   "source": [
    "We plot the histogram of the log returns, and find that the values concentrate in (-0.25, 0.25)."
   ]
  },
  {
   "cell_type": "code",
   "execution_count": 8,
   "id": "nearby-corrections",
   "metadata": {},
   "outputs": [
    {
     "data": {
      "image/png": "[encoded data removed]",
      "text/plain": [
       "<Figure size 432x288 with 1 Axes>"
      ]
     },
     "metadata": {
      "needs_background": "light"
     },
     "output_type": "display_data"
    }
   ],
   "source": [
    "_ = plt.hist(DeltaY.to_numpy().reshape(-1), bins=1000, log=True)"
   ]
  },
  {
   "cell_type": "markdown",
   "id": "social-vehicle",
   "metadata": {},
   "source": [
    "### PCA on the Stock Portfolio"
   ]
  },
  {
   "cell_type": "code",
   "execution_count": 13,
   "id": "excess-redhead",
   "metadata": {},
   "outputs": [],
   "source": [
    "def pca(df):\n",
    "    f = PCA(n_components=min(df.shape))\n",
    "    f.fit(df)\n",
    "    return f\n",
    "\n",
    "def plot(fitted):\n",
    "    fig, ax = plt.subplots(1, 2, figsize=(30, 8))\n",
    "    ax[0].plot(fitted.explained_variance_ratio_)\n",
    "    ax[1].plot(fitted.explained_variance_ratio_.cumsum())"
   ]
  },
  {
   "cell_type": "code",
   "execution_count": 14,
   "id": "empirical-frank",
   "metadata": {},
   "outputs": [
    {
     "data": {
      "image/png": "[encoded data removed]",
      "text/plain": [
       "<Figure size 2160x576 with 2 Axes>"
      ]
     },
     "metadata": {
      "needs_background": "light"
     },
     "output_type": "display_data"
    }
   ],
   "source": [
    "plot(pca(DeltaY))"
   ]
  },
  {
   "cell_type": "code",
   "execution_count": 18,
   "id": "handmade-dubai",
   "metadata": {},
   "outputs": [],
   "source": [
    "to_delete = [\"LNT\"]"
   ]
  },
  {
   "cell_type": "code",
   "execution_count": 21,
   "id": "supported-landscape",
   "metadata": {},
   "outputs": [],
   "source": [
    "non_splitted = [\"BBY\", \"CHK\", \"EXPE\", \"FL\", \"NWL\", \"PWR\", \"SIG\", \"WMB\"]\n",
    "splitted = [x for x in close_price.diff()[DeltaY<-0.3].dropna(how=\"all\").dropna(axis=1, how='all').columns if x not in non_splitted]\n",
    "delta_splitted = DeltaY[splitted].copy()\n",
    "temp = delta_splitted[delta_splitted<-0.3].dropna(how=\"all\").dropna(axis=1, how=\"all\")\n",
    "delta_splitted.update(temp.isna() * temp)\n",
    "\n",
    "DeltaY_remove_split = DeltaY.copy()\n",
    "DeltaY_remove_split.update(delta_splitted)\n",
    "DeltaY_remove_split.drop(columns=to_delete, axis=1, inplace=True)"
   ]
  },
  {
   "cell_type": "code",
   "execution_count": 24,
   "id": "surprising-disorder",
   "metadata": {},
   "outputs": [
    {
     "data": {
      "image/png": "[encoded data removed]",
      "text/plain": [
       "<Figure size 2160x576 with 2 Axes>"
      ]
     },
     "metadata": {
      "needs_background": "light"
     },
     "output_type": "display_data"
    }
   ],
   "source": [
    "plot(pca(DeltaY_remove_split))"
   ]
  },
  {
   "cell_type": "code",
   "execution_count": 218,
   "id": "median-command",
   "metadata": {},
   "outputs": [],
   "source": [
    "size = len(DeltaY.columns)"
   ]
  },
  {
   "cell_type": "code",
   "execution_count": 62,
   "id": "successful-budget",
   "metadata": {},
   "outputs": [],
   "source": [
    "df = df[df.Name.isin(DeltaY.columns)]"
   ]
  },
  {
   "cell_type": "code",
   "execution_count": 122,
   "id": "middle-salad",
   "metadata": {},
   "outputs": [],
   "source": [
    "port_by_vol = df[[\"volume\", \"Name\"]].groupby(\"Name\").sum().sort_values(\"volume\", ascending=False)[:size]"
   ]
  },
  {
   "cell_type": "code",
   "execution_count": 130,
   "id": "interstate-interest",
   "metadata": {},
   "outputs": [],
   "source": [
    "vol_weights = volumes / volumes.sum(axis=1).to_numpy().reshape(-1, 1)"
   ]
  },
  {
   "cell_type": "code",
   "execution_count": 134,
   "id": "unauthorized-homework",
   "metadata": {},
   "outputs": [],
   "source": [
    "port_returns_daily = (DeltaY.loc[:, port_by_vol.index] * vol_weights[1:][port_by_vol.index].values)\n",
    "port_returns = port_returns_daily.sum(axis=1)"
   ]
  },
  {
   "cell_type": "code",
   "execution_count": 162,
   "id": "vulnerable-metropolitan",
   "metadata": {},
   "outputs": [
    {
     "data": {
      "text/plain": [
       "1.071991336965362"
      ]
     },
     "execution_count": 162,
     "metadata": {},
     "output_type": "execute_result"
    }
   ],
   "source": [
    "abs(port_returns).mean() / abs(port_returns).std()"
   ]
  },
  {
   "cell_type": "code",
   "execution_count": 169,
   "id": "parliamentary-chamber",
   "metadata": {},
   "outputs": [
    {
     "data": {
      "text/plain": [
       "<AxesSubplot:title={'center':'Volume-weighted Portfolio Return'}, xlabel='date'>"
      ]
     },
     "execution_count": 169,
     "metadata": {},
     "output_type": "execute_result"
    },
    {
     "data": {
      "image/png": "[encoded data removed]",
      "text/plain": [
       "<Figure size 720x360 with 1 Axes>"
      ]
     },
     "metadata": {
      "needs_background": "light"
     },
     "output_type": "display_data"
    }
   ],
   "source": [
    "abs(port_returns).cumsum().plot(figsize=(10, 5), title=\"Volume-weighted Portfolio Return\")"
   ]
  },
  {
   "cell_type": "code",
   "execution_count": null,
   "id": "shared-damages",
   "metadata": {},
   "outputs": [],
   "source": []
  },
  {
   "cell_type": "code",
   "execution_count": 184,
   "id": "affected-combination",
   "metadata": {},
   "outputs": [],
   "source": [
    "def apply_pca(data):\n",
    "    pca = PCA(n_components=min(data.shape))\n",
    "    pca.fit(data)\n",
    "    fig,ax = plt.subplots(1,2,figsize=(30,8))\n",
    "    ax[0].plot(pca.explained_variance_ratio_[:100], 'x')\n",
    "    ax[1].plot(pca.explained_variance_ratio_.cumsum()[:100])\n",
    "    print(pca.explained_variance_ratio_[:10])\n",
    "    return pca\n",
    "\n",
    "def get_weights(data, pca, num):\n",
    "    result = pd.DataFrame([pca.components_[num]])\n",
    "    result.columns = data.columns\n",
    "    return result.transpose()"
   ]
  },
  {
   "cell_type": "code",
   "execution_count": 185,
   "id": "respiratory-combat",
   "metadata": {},
   "outputs": [
    {
     "name": "stdout",
     "output_type": "stream",
     "text": [
      "[0.26943977 0.04986343 0.03186521 0.02040738 0.01686886 0.01406797\n",
      " 0.01218284 0.01091151 0.01028573 0.01002564]\n"
     ]
    },
    {
     "data": {
      "image/png": "[encoded data removed]",
      "text/plain": [
       "<Figure size 2160x576 with 2 Axes>"
      ]
     },
     "metadata": {
      "needs_background": "light"
     },
     "output_type": "display_data"
    }
   ],
   "source": [
    "pca = apply_pca(DeltaY_demeaned)"
   ]
  },
  {
   "cell_type": "code",
   "execution_count": 214,
   "id": "facial-convenience",
   "metadata": {},
   "outputs": [],
   "source": [
    "def get_pca_returns(components, volume_weighted=True):\n",
    "    pca_weights = get_weights(DeltaY_demeaned, pca, 0).loc[port_by_vol.index] \n",
    "    for i in range(1, components):\n",
    "        pca_weights += get_weights(DeltaY_demeaned, pca, i).loc[port_by_vol.index]\n",
    "    pca_weights = pca_weights / pca_weights.sum()\n",
    "    if (volume_weighted):\n",
    "        pca_returns = (port_returns_daily * pca_weights.to_numpy().reshape(-1)).sum(axis=1)\n",
    "        title = \"%s PC and Volume Weighted Portfolio Return\" % components\n",
    "    else:\n",
    "        pca_returns = (DeltaY.loc[:, port_by_vol.index] * pca_weights.to_numpy().reshape(-1)).sum(axis=1)\n",
    "        title = \"%s PC Weighted Porfolio Return\" % components\n",
    "        \n",
    "    abs(pca_returns).cumsum().plot(figsize=(10, 5), title=title)\n",
    "        \n",
    "    return pca_returns"
   ]
  },
  {
   "cell_type": "code",
   "execution_count": 215,
   "id": "fifteen-groove",
   "metadata": {},
   "outputs": [
    {
     "data": {
      "text/plain": [
       "0.6989989475416815"
      ]
     },
     "execution_count": 215,
     "metadata": {},
     "output_type": "execute_result"
    },
    {
     "data": {
      "image/png": "[encoded data removed]",
      "text/plain": [
       "<Figure size 720x360 with 1 Axes>"
      ]
     },
     "metadata": {
      "needs_background": "light"
     },
     "output_type": "display_data"
    }
   ],
   "source": [
    "pca_returns = get_pca_returns(10, True)\n",
    "abs(pca_returns).mean()/abs(pca_returns).std()"
   ]
  },
  {
   "cell_type": "code",
   "execution_count": null,
   "id": "juvenile-study",
   "metadata": {},
   "outputs": [],
   "source": []
  },
  {
   "cell_type": "code",
   "execution_count": 217,
   "id": "vital-width",
   "metadata": {},
   "outputs": [
    {
     "data": {
      "text/plain": [
       "1.0273009441619085"
      ]
     },
     "execution_count": 217,
     "metadata": {},
     "output_type": "execute_result"
    },
    {
     "data": {
      "image/png": "[encoded data removed]",
      "text/plain": [
       "<Figure size 720x360 with 1 Axes>"
      ]
     },
     "metadata": {
      "needs_background": "light"
     },
     "output_type": "display_data"
    }
   ],
   "source": [
    "pca_returns = get_pca_returns(1, True)\n",
    "abs(pca_returns).mean()/abs(pca_returns).std()"
   ]
  },
  {
   "cell_type": "code",
   "execution_count": null,
   "id": "extended-label",
   "metadata": {},
   "outputs": [],
   "source": []
  }
 ],
 "metadata": {
  "kernelspec": {
   "display_name": "Python 3",
   "language": "python",
   "name": "python3"
  },
  "language_info": {
   "codemirror_mode": {
    "name": "ipython",
    "version": 3
   },
   "file_extension": ".py",
   "mimetype": "text/x-python",
   "name": "python",
   "nbconvert_exporter": "python",
   "pygments_lexer": "ipython3",
   "version": "3.6.9"
  }
 },
 "nbformat": 4,
 "nbformat_minor": 5
}
